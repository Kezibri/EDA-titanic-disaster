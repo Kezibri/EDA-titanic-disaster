{
 "cells": [
  {
   "cell_type": "markdown",
   "id": "5d8ce702-4c28-4980-95f1-726bec8630f3",
   "metadata": {
    "jp-MarkdownHeadingCollapsed": true
   },
   "source": [
    "## 1. Loading the Data"
   ]
  },
  {
   "cell_type": "code",
   "execution_count": 178,
   "id": "c0ae5752-92bf-429a-9e25-bbb929d57365",
   "metadata": {},
   "outputs": [],
   "source": [
    "import pandas as pd\n",
    "import seaborn as sns\n",
    "import matplotlib.pyplot as plt"
   ]
  },
  {
   "cell_type": "markdown",
   "id": "4e7e4de8-4b42-443c-8f21-52445bf6a78d",
   "metadata": {},
   "source": [
    "<p>You can download the Titanic dataset from Kaggle or use seaborn's built-in dataset.</p>"
   ]
  },
  {
   "cell_type": "code",
   "execution_count": 181,
   "id": "8bef3490-86ee-4690-b540-af7afcb89a11",
   "metadata": {},
   "outputs": [
    {
     "data": {
      "text/html": [
       "<div>\n",
       "<style scoped>\n",
       "    .dataframe tbody tr th:only-of-type {\n",
       "        vertical-align: middle;\n",
       "    }\n",
       "\n",
       "    .dataframe tbody tr th {\n",
       "        vertical-align: top;\n",
       "    }\n",
       "\n",
       "    .dataframe thead th {\n",
       "        text-align: right;\n",
       "    }\n",
       "</style>\n",
       "<table border=\"1\" class=\"dataframe\">\n",
       "  <thead>\n",
       "    <tr style=\"text-align: right;\">\n",
       "      <th></th>\n",
       "      <th>survived</th>\n",
       "      <th>pclass</th>\n",
       "      <th>sex</th>\n",
       "      <th>age</th>\n",
       "      <th>sibsp</th>\n",
       "      <th>parch</th>\n",
       "      <th>fare</th>\n",
       "      <th>embarked</th>\n",
       "      <th>class</th>\n",
       "      <th>who</th>\n",
       "      <th>adult_male</th>\n",
       "      <th>deck</th>\n",
       "      <th>embark_town</th>\n",
       "      <th>alive</th>\n",
       "      <th>alone</th>\n",
       "    </tr>\n",
       "  </thead>\n",
       "  <tbody>\n",
       "    <tr>\n",
       "      <th>0</th>\n",
       "      <td>0</td>\n",
       "      <td>3</td>\n",
       "      <td>male</td>\n",
       "      <td>22.0</td>\n",
       "      <td>1</td>\n",
       "      <td>0</td>\n",
       "      <td>7.2500</td>\n",
       "      <td>S</td>\n",
       "      <td>Third</td>\n",
       "      <td>man</td>\n",
       "      <td>True</td>\n",
       "      <td>NaN</td>\n",
       "      <td>Southampton</td>\n",
       "      <td>no</td>\n",
       "      <td>False</td>\n",
       "    </tr>\n",
       "    <tr>\n",
       "      <th>1</th>\n",
       "      <td>1</td>\n",
       "      <td>1</td>\n",
       "      <td>female</td>\n",
       "      <td>38.0</td>\n",
       "      <td>1</td>\n",
       "      <td>0</td>\n",
       "      <td>71.2833</td>\n",
       "      <td>C</td>\n",
       "      <td>First</td>\n",
       "      <td>woman</td>\n",
       "      <td>False</td>\n",
       "      <td>C</td>\n",
       "      <td>Cherbourg</td>\n",
       "      <td>yes</td>\n",
       "      <td>False</td>\n",
       "    </tr>\n",
       "    <tr>\n",
       "      <th>2</th>\n",
       "      <td>1</td>\n",
       "      <td>3</td>\n",
       "      <td>female</td>\n",
       "      <td>26.0</td>\n",
       "      <td>0</td>\n",
       "      <td>0</td>\n",
       "      <td>7.9250</td>\n",
       "      <td>S</td>\n",
       "      <td>Third</td>\n",
       "      <td>woman</td>\n",
       "      <td>False</td>\n",
       "      <td>NaN</td>\n",
       "      <td>Southampton</td>\n",
       "      <td>yes</td>\n",
       "      <td>True</td>\n",
       "    </tr>\n",
       "    <tr>\n",
       "      <th>3</th>\n",
       "      <td>1</td>\n",
       "      <td>1</td>\n",
       "      <td>female</td>\n",
       "      <td>35.0</td>\n",
       "      <td>1</td>\n",
       "      <td>0</td>\n",
       "      <td>53.1000</td>\n",
       "      <td>S</td>\n",
       "      <td>First</td>\n",
       "      <td>woman</td>\n",
       "      <td>False</td>\n",
       "      <td>C</td>\n",
       "      <td>Southampton</td>\n",
       "      <td>yes</td>\n",
       "      <td>False</td>\n",
       "    </tr>\n",
       "    <tr>\n",
       "      <th>4</th>\n",
       "      <td>0</td>\n",
       "      <td>3</td>\n",
       "      <td>male</td>\n",
       "      <td>35.0</td>\n",
       "      <td>0</td>\n",
       "      <td>0</td>\n",
       "      <td>8.0500</td>\n",
       "      <td>S</td>\n",
       "      <td>Third</td>\n",
       "      <td>man</td>\n",
       "      <td>True</td>\n",
       "      <td>NaN</td>\n",
       "      <td>Southampton</td>\n",
       "      <td>no</td>\n",
       "      <td>True</td>\n",
       "    </tr>\n",
       "  </tbody>\n",
       "</table>\n",
       "</div>"
      ],
      "text/plain": [
       "   survived  pclass     sex   age  sibsp  parch     fare embarked  class  \\\n",
       "0         0       3    male  22.0      1      0   7.2500        S  Third   \n",
       "1         1       1  female  38.0      1      0  71.2833        C  First   \n",
       "2         1       3  female  26.0      0      0   7.9250        S  Third   \n",
       "3         1       1  female  35.0      1      0  53.1000        S  First   \n",
       "4         0       3    male  35.0      0      0   8.0500        S  Third   \n",
       "\n",
       "     who  adult_male deck  embark_town alive  alone  \n",
       "0    man        True  NaN  Southampton    no  False  \n",
       "1  woman       False    C    Cherbourg   yes  False  \n",
       "2  woman       False  NaN  Southampton   yes   True  \n",
       "3  woman       False    C  Southampton   yes  False  \n",
       "4    man        True  NaN  Southampton    no   True  "
      ]
     },
     "execution_count": 181,
     "metadata": {},
     "output_type": "execute_result"
    }
   ],
   "source": [
    "# Load Titanic dataset\n",
    "df_titanic = sns.load_dataset('titanic')\n",
    "# If using a downloaded file\n",
    "# titanic = pd.read_csv('path_to_your_titanic_dataset.csv')\n",
    "df_titanic.head()"
   ]
  },
  {
   "cell_type": "markdown",
   "id": "123c2f03-8c73-420f-88a2-89435adc354e",
   "metadata": {
    "jp-MarkdownHeadingCollapsed": true
   },
   "source": [
    "## 2. Descriptive Statistical Analysis"
   ]
  },
  {
   "cell_type": "markdown",
   "id": "5bf91ebb-93b2-4a6a-b2c1-ae1ef0fd18b0",
   "metadata": {},
   "source": [
    "<p>Before we visualize individual variables to examine their distribution, it is crucial to first identify whether the variable is numerical or categorical. Understanding the variable type will guide us in selecting the most appropriate visualization method. Additionally, we need to check for any columns with missing values, as these could potentially skew the results of our analysis.</p>"
   ]
  },
  {
   "cell_type": "code",
   "execution_count": 26,
   "id": "8a7e0f3c-9a08-47fc-a2ac-14e0098ff356",
   "metadata": {},
   "outputs": [
    {
     "name": "stdout",
     "output_type": "stream",
     "text": [
      "<class 'pandas.core.frame.DataFrame'>\n",
      "RangeIndex: 891 entries, 0 to 890\n",
      "Data columns (total 15 columns):\n",
      " #   Column       Non-Null Count  Dtype   \n",
      "---  ------       --------------  -----   \n",
      " 0   survived     891 non-null    int64   \n",
      " 1   pclass       891 non-null    int64   \n",
      " 2   sex          891 non-null    object  \n",
      " 3   age          714 non-null    float64 \n",
      " 4   sibsp        891 non-null    int64   \n",
      " 5   parch        891 non-null    int64   \n",
      " 6   fare         891 non-null    float64 \n",
      " 7   embarked     889 non-null    object  \n",
      " 8   class        891 non-null    category\n",
      " 9   who          891 non-null    object  \n",
      " 10  adult_male   891 non-null    bool    \n",
      " 11  deck         203 non-null    category\n",
      " 12  embark_town  889 non-null    object  \n",
      " 13  alive        891 non-null    object  \n",
      " 14  alone        891 non-null    bool    \n",
      "dtypes: bool(2), category(2), float64(2), int64(4), object(5)\n",
      "memory usage: 80.7+ KB\n"
     ]
    }
   ],
   "source": [
    "df_titanic.info()"
   ]
  },
  {
   "cell_type": "markdown",
   "id": "f3f0ddee-36c1-453b-99ca-a28c1d1b955c",
   "metadata": {},
   "source": [
    "<p>As you can notice on column Dtype, we will be dealing with columns of different types. Also, we have some missing values on columns like age and deck. I will show you some techniques to handle these missing values in the next section.</p>\n",
    "<p>Let's first examinine the variables using the describe method.\n",
    "The describe function automatically calculates basic statistics for all continuous variables, skipping any NaN values in the process.\n",
    "It will provide the following information for each variable:\n",
    "<ul>\n",
    "  <li>The count (number of non-missing entries)</li>\n",
    "  <li>The mean</li>\n",
    "  <li>The standard deviation (std)</li>\n",
    "    <li>The minimum value</li>\n",
    "    <li>The interquartile range (IQR: 25%, 50%, and 75% percentiles)</li>\n",
    "    <li>The maximum value</li>\n",
    "</ul>\n",
    "Based on our previous exploration of data types, we observed that some columns can be categorized as categorical (with data types such as 'object', 'bool', or 'category'), while others can be classified as numerical (with data types like 'float64' or 'int64'). This distinction will be useful when we describe and analyze these columns separately.\n",
    "</p>"
   ]
  },
  {
   "cell_type": "code",
   "execution_count": 27,
   "id": "5172d658-ae90-4d1a-9ff0-ee9ea61dd586",
   "metadata": {},
   "outputs": [
    {
     "data": {
      "text/html": [
       "<div>\n",
       "<style scoped>\n",
       "    .dataframe tbody tr th:only-of-type {\n",
       "        vertical-align: middle;\n",
       "    }\n",
       "\n",
       "    .dataframe tbody tr th {\n",
       "        vertical-align: top;\n",
       "    }\n",
       "\n",
       "    .dataframe thead th {\n",
       "        text-align: right;\n",
       "    }\n",
       "</style>\n",
       "<table border=\"1\" class=\"dataframe\">\n",
       "  <thead>\n",
       "    <tr style=\"text-align: right;\">\n",
       "      <th></th>\n",
       "      <th>sex</th>\n",
       "      <th>embarked</th>\n",
       "      <th>class</th>\n",
       "      <th>who</th>\n",
       "      <th>adult_male</th>\n",
       "      <th>deck</th>\n",
       "      <th>embark_town</th>\n",
       "      <th>alive</th>\n",
       "      <th>alone</th>\n",
       "    </tr>\n",
       "  </thead>\n",
       "  <tbody>\n",
       "    <tr>\n",
       "      <th>count</th>\n",
       "      <td>891</td>\n",
       "      <td>889</td>\n",
       "      <td>891</td>\n",
       "      <td>891</td>\n",
       "      <td>891</td>\n",
       "      <td>203</td>\n",
       "      <td>889</td>\n",
       "      <td>891</td>\n",
       "      <td>891</td>\n",
       "    </tr>\n",
       "    <tr>\n",
       "      <th>unique</th>\n",
       "      <td>2</td>\n",
       "      <td>3</td>\n",
       "      <td>3</td>\n",
       "      <td>3</td>\n",
       "      <td>2</td>\n",
       "      <td>7</td>\n",
       "      <td>3</td>\n",
       "      <td>2</td>\n",
       "      <td>2</td>\n",
       "    </tr>\n",
       "    <tr>\n",
       "      <th>top</th>\n",
       "      <td>male</td>\n",
       "      <td>S</td>\n",
       "      <td>Third</td>\n",
       "      <td>man</td>\n",
       "      <td>True</td>\n",
       "      <td>C</td>\n",
       "      <td>Southampton</td>\n",
       "      <td>no</td>\n",
       "      <td>True</td>\n",
       "    </tr>\n",
       "    <tr>\n",
       "      <th>freq</th>\n",
       "      <td>577</td>\n",
       "      <td>644</td>\n",
       "      <td>491</td>\n",
       "      <td>537</td>\n",
       "      <td>537</td>\n",
       "      <td>59</td>\n",
       "      <td>644</td>\n",
       "      <td>549</td>\n",
       "      <td>537</td>\n",
       "    </tr>\n",
       "  </tbody>\n",
       "</table>\n",
       "</div>"
      ],
      "text/plain": [
       "         sex embarked  class  who adult_male deck  embark_town alive alone\n",
       "count    891      889    891  891        891  203          889   891   891\n",
       "unique     2        3      3    3          2    7            3     2     2\n",
       "top     male        S  Third  man       True    C  Southampton    no  True\n",
       "freq     577      644    491  537        537   59          644   549   537"
      ]
     },
     "execution_count": 27,
     "metadata": {},
     "output_type": "execute_result"
    }
   ],
   "source": [
    "df_titanic.describe(include=['object', 'bool', 'category'])"
   ]
  },
  {
   "cell_type": "code",
   "execution_count": 28,
   "id": "08282985-7f26-4006-8d98-078ed3e69b57",
   "metadata": {},
   "outputs": [
    {
     "data": {
      "text/html": [
       "<div>\n",
       "<style scoped>\n",
       "    .dataframe tbody tr th:only-of-type {\n",
       "        vertical-align: middle;\n",
       "    }\n",
       "\n",
       "    .dataframe tbody tr th {\n",
       "        vertical-align: top;\n",
       "    }\n",
       "\n",
       "    .dataframe thead th {\n",
       "        text-align: right;\n",
       "    }\n",
       "</style>\n",
       "<table border=\"1\" class=\"dataframe\">\n",
       "  <thead>\n",
       "    <tr style=\"text-align: right;\">\n",
       "      <th></th>\n",
       "      <th>survived</th>\n",
       "      <th>pclass</th>\n",
       "      <th>age</th>\n",
       "      <th>sibsp</th>\n",
       "      <th>parch</th>\n",
       "      <th>fare</th>\n",
       "    </tr>\n",
       "  </thead>\n",
       "  <tbody>\n",
       "    <tr>\n",
       "      <th>count</th>\n",
       "      <td>891.000000</td>\n",
       "      <td>891.000000</td>\n",
       "      <td>714.000000</td>\n",
       "      <td>891.000000</td>\n",
       "      <td>891.000000</td>\n",
       "      <td>891.000000</td>\n",
       "    </tr>\n",
       "    <tr>\n",
       "      <th>mean</th>\n",
       "      <td>0.383838</td>\n",
       "      <td>2.308642</td>\n",
       "      <td>29.699118</td>\n",
       "      <td>0.523008</td>\n",
       "      <td>0.381594</td>\n",
       "      <td>32.204208</td>\n",
       "    </tr>\n",
       "    <tr>\n",
       "      <th>std</th>\n",
       "      <td>0.486592</td>\n",
       "      <td>0.836071</td>\n",
       "      <td>14.526497</td>\n",
       "      <td>1.102743</td>\n",
       "      <td>0.806057</td>\n",
       "      <td>49.693429</td>\n",
       "    </tr>\n",
       "    <tr>\n",
       "      <th>min</th>\n",
       "      <td>0.000000</td>\n",
       "      <td>1.000000</td>\n",
       "      <td>0.420000</td>\n",
       "      <td>0.000000</td>\n",
       "      <td>0.000000</td>\n",
       "      <td>0.000000</td>\n",
       "    </tr>\n",
       "    <tr>\n",
       "      <th>25%</th>\n",
       "      <td>0.000000</td>\n",
       "      <td>2.000000</td>\n",
       "      <td>20.125000</td>\n",
       "      <td>0.000000</td>\n",
       "      <td>0.000000</td>\n",
       "      <td>7.910400</td>\n",
       "    </tr>\n",
       "    <tr>\n",
       "      <th>50%</th>\n",
       "      <td>0.000000</td>\n",
       "      <td>3.000000</td>\n",
       "      <td>28.000000</td>\n",
       "      <td>0.000000</td>\n",
       "      <td>0.000000</td>\n",
       "      <td>14.454200</td>\n",
       "    </tr>\n",
       "    <tr>\n",
       "      <th>75%</th>\n",
       "      <td>1.000000</td>\n",
       "      <td>3.000000</td>\n",
       "      <td>38.000000</td>\n",
       "      <td>1.000000</td>\n",
       "      <td>0.000000</td>\n",
       "      <td>31.000000</td>\n",
       "    </tr>\n",
       "    <tr>\n",
       "      <th>max</th>\n",
       "      <td>1.000000</td>\n",
       "      <td>3.000000</td>\n",
       "      <td>80.000000</td>\n",
       "      <td>8.000000</td>\n",
       "      <td>6.000000</td>\n",
       "      <td>512.329200</td>\n",
       "    </tr>\n",
       "  </tbody>\n",
       "</table>\n",
       "</div>"
      ],
      "text/plain": [
       "         survived      pclass         age       sibsp       parch        fare\n",
       "count  891.000000  891.000000  714.000000  891.000000  891.000000  891.000000\n",
       "mean     0.383838    2.308642   29.699118    0.523008    0.381594   32.204208\n",
       "std      0.486592    0.836071   14.526497    1.102743    0.806057   49.693429\n",
       "min      0.000000    1.000000    0.420000    0.000000    0.000000    0.000000\n",
       "25%      0.000000    2.000000   20.125000    0.000000    0.000000    7.910400\n",
       "50%      0.000000    3.000000   28.000000    0.000000    0.000000   14.454200\n",
       "75%      1.000000    3.000000   38.000000    1.000000    0.000000   31.000000\n",
       "max      1.000000    3.000000   80.000000    8.000000    6.000000  512.329200"
      ]
     },
     "execution_count": 28,
     "metadata": {},
     "output_type": "execute_result"
    }
   ],
   "source": [
    "df_titanic.describe(include=['float64', 'int64'])"
   ]
  },
  {
   "cell_type": "markdown",
   "id": "21875b3b-0e08-49af-b0ff-14c83436eafb",
   "metadata": {},
   "source": [
    "<p>Using <b>value_counts</b> is an effective way to see how many instances of each category or variable are present in a dataset. Let's apply the <b>value_counts</b> method to the \"alive\" column to determine the number of people who survived and those who didn't.</p>"
   ]
  },
  {
   "cell_type": "code",
   "execution_count": 177,
   "id": "70cfd617-eb43-4ef1-a2bc-b2650e09554c",
   "metadata": {},
   "outputs": [
    {
     "data": {
      "text/html": [
       "<div>\n",
       "<style scoped>\n",
       "    .dataframe tbody tr th:only-of-type {\n",
       "        vertical-align: middle;\n",
       "    }\n",
       "\n",
       "    .dataframe tbody tr th {\n",
       "        vertical-align: top;\n",
       "    }\n",
       "\n",
       "    .dataframe thead th {\n",
       "        text-align: right;\n",
       "    }\n",
       "</style>\n",
       "<table border=\"1\" class=\"dataframe\">\n",
       "  <thead>\n",
       "    <tr style=\"text-align: right;\">\n",
       "      <th></th>\n",
       "      <th>count</th>\n",
       "    </tr>\n",
       "    <tr>\n",
       "      <th>alive</th>\n",
       "      <th></th>\n",
       "    </tr>\n",
       "  </thead>\n",
       "  <tbody>\n",
       "    <tr>\n",
       "      <th>no</th>\n",
       "      <td>549</td>\n",
       "    </tr>\n",
       "    <tr>\n",
       "      <th>yes</th>\n",
       "      <td>342</td>\n",
       "    </tr>\n",
       "  </tbody>\n",
       "</table>\n",
       "</div>"
      ],
      "text/plain": [
       "       count\n",
       "alive       \n",
       "no       549\n",
       "yes      342"
      ]
     },
     "execution_count": 177,
     "metadata": {},
     "output_type": "execute_result"
    }
   ],
   "source": [
    "df_titanic['alive'].value_counts().to_frame()"
   ]
  },
  {
   "cell_type": "markdown",
   "id": "a185589b-fbc6-4bf0-8fd9-f8aa2b3a2b8e",
   "metadata": {},
   "source": [
    "<p>So the results say that in the Titanic disaster, only 342 passengers survived out of 891 total.</p>"
   ]
  },
  {
   "cell_type": "markdown",
   "id": "7c8c1176-246a-48d5-b0b1-d77dddf3556b",
   "metadata": {
    "jp-MarkdownHeadingCollapsed": true
   },
   "source": [
    "## 3. Handling Missing Values"
   ]
  },
  {
   "cell_type": "markdown",
   "id": "c2dea57a-f2d9-4964-a5bc-c34112cd7012",
   "metadata": {},
   "source": [
    "<p>As we have seen previously, the dataset has missing values in columns like age, deck, and embarked. Here is how we can deal with that.</p>"
   ]
  },
  {
   "cell_type": "code",
   "execution_count": 183,
   "id": "44c32f33-153a-4dd4-8c61-56c545ccf1f3",
   "metadata": {},
   "outputs": [],
   "source": [
    "# Fill missing 'Age' with the median age\n",
    "df_titanic['age'] = df_titanic['age'].fillna(df_titanic['age'].median())"
   ]
  },
  {
   "cell_type": "code",
   "execution_count": 184,
   "id": "62e7b912-e3cf-41db-bbe3-14f5e377424b",
   "metadata": {},
   "outputs": [],
   "source": [
    "# Fill missing 'embark' and 'embark_town' with the most common port\n",
    "df_titanic['embarked'] = df_titanic['embarked'].fillna(df_titanic['embarked'].mode()[0])\n",
    "df_titanic['embark_town'] = df_titanic['embark_town'].fillna(df_titanic['embark_town'].mode()[0])"
   ]
  },
  {
   "cell_type": "code",
   "execution_count": null,
   "id": "42cdea34-995a-432e-a8b0-20be6c1d4de7",
   "metadata": {},
   "outputs": [],
   "source": [
    "# Drop 'deck' since too many missing values\n",
    "df_titanic.drop('deck', axis=1, inplace=True)"
   ]
  },
  {
   "cell_type": "code",
   "execution_count": 188,
   "id": "564db728-e3ed-4e07-ae1a-37bfdea359f2",
   "metadata": {},
   "outputs": [
    {
     "data": {
      "text/plain": [
       "survived       0\n",
       "pclass         0\n",
       "sex            0\n",
       "age            0\n",
       "sibsp          0\n",
       "parch          0\n",
       "fare           0\n",
       "embarked       0\n",
       "class          0\n",
       "who            0\n",
       "adult_male     0\n",
       "embark_town    0\n",
       "alive          0\n",
       "alone          0\n",
       "dtype: int64"
      ]
     },
     "execution_count": 188,
     "metadata": {},
     "output_type": "execute_result"
    }
   ],
   "source": [
    "# # Check that there are no more missing values\n",
    "df_titanic.isnull().sum()"
   ]
  },
  {
   "cell_type": "markdown",
   "id": "e26c5b4f-dc19-47b3-b5e2-76f6a2206e12",
   "metadata": {},
   "source": [
    "## 4. Exploratory Data Analysis"
   ]
  },
  {
   "cell_type": "markdown",
   "id": "debb22f7-54c9-43f7-a976-403e7bc01fd6",
   "metadata": {
    "jp-MarkdownHeadingCollapsed": true
   },
   "source": [
    "#### 4.1 Visualizing the distribution of key features"
   ]
  },
  {
   "cell_type": "code",
   "execution_count": 189,
   "id": "b066ec9c-8ca2-4d55-9a63-86fc22438a43",
   "metadata": {},
   "outputs": [
    {
     "data": {
      "image/png": "[encoded data removed]",
      "text/plain": [
       "<Figure size 1200x2200 with 15 Axes>"
      ]
     },
     "metadata": {},
     "output_type": "display_data"
    }
   ],
   "source": [
    "# Distribution of Age, fare and survival\n",
    "numerical_data = df_titanic[['age', 'fare', 'survived']]\n",
    "numerical_data.hist(\n",
    "    bins=20, figsize=(12, 22), edgecolor=\"black\", layout=(5, 3)\n",
    ")\n",
    "plt.subplots_adjust(hspace=0.8, wspace=0.8)"
   ]
  },
  {
   "cell_type": "markdown",
   "id": "56570112-ff38-43ea-bf16-210ce064d239",
   "metadata": {},
   "source": [
    "<p><b>Age</b>: The age distribution is right-skewed, with more young passengers and fewer older individuals aboard the Titanic.\n",
    "    \n",
    "<b>Fare</b>: Most passengers paid lower fares, with a small number paying much higher fares.\n",
    "\n",
    "<b>Survival</b>: The survival distribution shows more passengers did not survive the disaster than those who did.</p>"
   ]
  },
  {
   "cell_type": "code",
   "execution_count": 203,
   "id": "5d2f1568-66eb-4c1a-bd16-ce5f131917a9",
   "metadata": {},
   "outputs": [
    {
     "data": {
      "image/png": "[encoded data removed]",
      "text/plain": [
       "<Figure size 1700x300 with 4 Axes>"
      ]
     },
     "metadata": {},
     "output_type": "display_data"
    }
   ],
   "source": [
    "from math import ceil\n",
    "from itertools import zip_longest\n",
    "\n",
    "categorical_data = df_titanic[['sex', 'class', 'embark_town']]\n",
    "\n",
    "n_string_features = categorical_data.shape[1]\n",
    "nrows, ncols = ceil(n_string_features / 4), 4\n",
    "\n",
    "fig, axs = plt.subplots(ncols=ncols, nrows=nrows, figsize=(17, 3))\n",
    "\n",
    "for feature_name, ax in zip_longest(categorical_data, axs.ravel()):\n",
    "    if feature_name is None:\n",
    "        # do not show the axis\n",
    "        ax.axis(\"off\")\n",
    "        continue\n",
    "\n",
    "    string_data[feature_name].value_counts().plot.barh(ax=ax)\n",
    "    ax.set_title(feature_name)\n",
    "\n",
    "plt.subplots_adjust(hspace=0.8, wspace=0.5)"
   ]
  },
  {
   "cell_type": "markdown",
   "id": "33d7be65-7673-4cd8-b586-6de4082da740",
   "metadata": {},
   "source": [
    "<p><b>Sex</b>: More men were aboard the Titanic than women.\n",
    "\n",
    "<b>Class</b>: The majority of passengers traveled in third class, with first-class passengers representing a smaller.\n",
    "\n",
    "<b>Embark Town</b>: Most passengers boarded at Southampton, with fewer passengers embarking from Cherbourg and Queenstown.</p>"
   ]
  },
  {
   "cell_type": "markdown",
   "id": "ad479469-d09f-4a70-b834-b62457388231",
   "metadata": {
    "jp-MarkdownHeadingCollapsed": true
   },
   "source": [
    "#### 4.2 Analyzing the relationship between fare and class"
   ]
  },
  {
   "cell_type": "code",
   "execution_count": 213,
   "id": "155b0173-4993-4bbb-a159-8b8f301d6594",
   "metadata": {},
   "outputs": [
    {
     "data": {
      "image/png": "[encoded data removed]",
      "text/plain": [
       "<Figure size 500x400 with 1 Axes>"
      ]
     },
     "metadata": {},
     "output_type": "display_data"
    }
   ],
   "source": [
    "# Set the figure size\n",
    "plt.figure(figsize=(5, 4))  # Adjust the width and height accordingly\n",
    "\n",
    "# Create the boxplot with different colors for each class\n",
    "sns.boxplot(x=\"class\", y=\"fare\", data=df_titanic, hue=\"class\", palette=\"Set1\")\n",
    "\n",
    "# Display the plot\n",
    "plt.show()"
   ]
  },
  {
   "cell_type": "markdown",
   "id": "d93916bd-841d-4118-86c1-dd72858b825e",
   "metadata": {},
   "source": [
    "<p>Fare increases with class, first-class passengers paid the highest, followed by second-class, with third-class paying the least.\n",
    "Also, by using groupby mean, we see that first-class passengers paid significantly higher fares on average than those in second and third class.</p>"
   ]
  },
  {
   "cell_type": "code",
   "execution_count": 217,
   "id": "d10b24a1-513a-4ad0-bead-555f5ee1fffe",
   "metadata": {},
   "outputs": [
    {
     "data": {
      "text/plain": [
       "pclass\n",
       "1    84.154687\n",
       "2    20.662183\n",
       "3    13.675550\n",
       "Name: fare, dtype: float64"
      ]
     },
     "execution_count": 217,
     "metadata": {},
     "output_type": "execute_result"
    }
   ],
   "source": [
    "df_titanic.groupby('pclass')['fare'].mean()"
   ]
  },
  {
   "cell_type": "markdown",
   "id": "8ac6ba4d-c22f-440a-a08c-a94e1fa4e08a",
   "metadata": {},
   "source": [
    "<p> We can also confirm this relationship using the P-value, which indicates whether the correlation between fare and class is statistically significant. The P-value represents the probability that the observed correlation occurred by chance. Typically, we choose a significance level of 0.05, meaning if the P-value is below 0.05, we are 95% confident that the correlation is meaningful and not due to random variation.\n",
    "\n",
    "We can obtain this information using \"stats\" module in the \"scipy\" library.</p>"
   ]
  },
  {
   "cell_type": "code",
   "execution_count": 219,
   "id": "a2d60c2f-2522-4042-9b32-19612e02533d",
   "metadata": {},
   "outputs": [
    {
     "name": "stdout",
     "output_type": "stream",
     "text": [
      "The Pearson Correlation Coefficient is -0.5494996199439077  with a P-value of P = 1.967386173422602e-71\n"
     ]
    }
   ],
   "source": [
    "from scipy import stats\n",
    "\n",
    "pearsonCorr, pValue = stats.pearsonr(df_titanic['pclass'], df_titanic['fare'])\n",
    "print(\"The Pearson Correlation Coefficient is\", pearsonCorr, \" with a P-value of P =\", pValue)"
   ]
  },
  {
   "cell_type": "markdown",
   "id": "6441aead-15ea-45df-8d2c-e12c60f28dca",
   "metadata": {},
   "source": [
    "<p>Since the p-value is < 0.001, the correlation between class and fare is statistically significant, although the linear relationship isn't extremely strong ~0.549.</p>"
   ]
  },
  {
   "cell_type": "markdown",
   "id": "b9428b11-1c43-4c87-8c10-9cb0cffd06cd",
   "metadata": {},
   "source": [
    "#### Conclusion"
   ]
  },
  {
   "cell_type": "markdown",
   "id": "472c790f-8a8c-4568-ad9a-fe61dff6492d",
   "metadata": {},
   "source": [
    "<p>Fare and class are closely related, as fare is a strong indicator of class, with higher fares generally corresponding to higher classes. For the rest of our analysis, we will take the class as an indicator that a passenger paid more for the ticket.</p>"
   ]
  },
  {
   "cell_type": "markdown",
   "id": "f98a9a6f-6c31-47ec-81d9-7bf6058d9458",
   "metadata": {
    "jp-MarkdownHeadingCollapsed": true
   },
   "source": [
    "#### 4.3 Analyzing the distribution of gender by class"
   ]
  },
  {
   "cell_type": "code",
   "execution_count": 212,
   "id": "49830abf-6b3f-458b-987a-8b80c594da42",
   "metadata": {},
   "outputs": [
    {
     "data": {
      "text/plain": [
       "<Axes: xlabel='sex', ylabel='count'>"
      ]
     },
     "execution_count": 212,
     "metadata": {},
     "output_type": "execute_result"
    },
    {
     "data": {
      "image/png": "[encoded data removed]",
      "text/plain": [
       "<Figure size 640x480 with 1 Axes>"
      ]
     },
     "metadata": {},
     "output_type": "display_data"
    }
   ],
   "source": [
    "sns.countplot(x='sex', hue='class', data=df_titanic, palette=\"Set1\")"
   ]
  },
  {
   "cell_type": "markdown",
   "id": "108ed76f-aed7-4404-bc0d-94612817d8e8",
   "metadata": {},
   "source": [
    "#### Conclusion:"
   ]
  },
  {
   "cell_type": "markdown",
   "id": "bf451323-5e6d-4705-b750-03cd684822ca",
   "metadata": {},
   "source": [
    "<p>Women were more prevalent in first class, while men dominated third class, with second class showing a more balanced gender distribution.</p>"
   ]
  },
  {
   "cell_type": "markdown",
   "id": "bf5059b0-694a-4644-9977-3f02e1c542a9",
   "metadata": {
    "jp-MarkdownHeadingCollapsed": true
   },
   "source": [
    "#### 4.4 Survival rate by class"
   ]
  },
  {
   "cell_type": "code",
   "execution_count": 232,
   "id": "9d616b5e-309c-4435-9af3-cd7cc22d7b95",
   "metadata": {},
   "outputs": [
    {
     "data": {
      "text/html": [
       "<div>\n",
       "<style scoped>\n",
       "    .dataframe tbody tr th:only-of-type {\n",
       "        vertical-align: middle;\n",
       "    }\n",
       "\n",
       "    .dataframe tbody tr th {\n",
       "        vertical-align: top;\n",
       "    }\n",
       "\n",
       "    .dataframe thead th {\n",
       "        text-align: right;\n",
       "    }\n",
       "</style>\n",
       "<table border=\"1\" class=\"dataframe\">\n",
       "  <thead>\n",
       "    <tr style=\"text-align: right;\">\n",
       "      <th></th>\n",
       "      <th>class</th>\n",
       "      <th>survived</th>\n",
       "    </tr>\n",
       "  </thead>\n",
       "  <tbody>\n",
       "    <tr>\n",
       "      <th>0</th>\n",
       "      <td>First</td>\n",
       "      <td>0.629630</td>\n",
       "    </tr>\n",
       "    <tr>\n",
       "      <th>1</th>\n",
       "      <td>Second</td>\n",
       "      <td>0.472826</td>\n",
       "    </tr>\n",
       "    <tr>\n",
       "      <th>2</th>\n",
       "      <td>Third</td>\n",
       "      <td>0.242363</td>\n",
       "    </tr>\n",
       "  </tbody>\n",
       "</table>\n",
       "</div>"
      ],
      "text/plain": [
       "    class  survived\n",
       "0   First  0.629630\n",
       "1  Second  0.472826\n",
       "2   Third  0.242363"
      ]
     },
     "execution_count": 232,
     "metadata": {},
     "output_type": "execute_result"
    }
   ],
   "source": [
    "# grouping results by class\n",
    "grouped_class = df_titanic[['class', 'survived']].groupby(['class'], as_index=False, observed=True).mean()\n",
    "grouped_class"
   ]
  },
  {
   "cell_type": "code",
   "execution_count": 244,
   "id": "0b8385f0-2b12-4696-9293-3e201aaedce9",
   "metadata": {},
   "outputs": [
    {
     "data": {
      "image/png": "[encoded data removed]",
      "text/plain": [
       "<Figure size 640x480 with 1 Axes>"
      ]
     },
     "metadata": {},
     "output_type": "display_data"
    }
   ],
   "source": [
    "# Survival rates by class\n",
    "sns.barplot(x='class', y='survived', hue=\"class\", data=grouped_class, palette=\"Set1\")\n",
    "plt.title('Survival Rate by Class')\n",
    "plt.ylabel('Survival Rate')\n",
    "plt.xlabel('Class')\n",
    "plt.show()"
   ]
  },
  {
   "cell_type": "markdown",
   "id": "3e258c0d-55a9-4399-a536-017df74337a0",
   "metadata": {},
   "source": [
    "#### Conclusion:"
   ]
  },
  {
   "cell_type": "markdown",
   "id": "73ed17af-9e99-458c-933b-05994505ff4d",
   "metadata": {},
   "source": [
    "<p>The mean survival rates grouped by class indicate a strong relationship between class and survival, with higher classes (and consequently higher fares) associated with higher survival rates, suggesting that socioeconomic status played a significant role in survival outcomes on the Titanic.</p>"
   ]
  },
  {
   "cell_type": "markdown",
   "id": "02af5dc6-df03-4877-ae70-f53e3cc0a26b",
   "metadata": {
    "jp-MarkdownHeadingCollapsed": true
   },
   "source": [
    "#### 4.5 Survival rate by gender"
   ]
  },
  {
   "cell_type": "code",
   "execution_count": 234,
   "id": "d963a889-82eb-47a9-9029-1f48a341e394",
   "metadata": {},
   "outputs": [
    {
     "data": {
      "text/html": [
       "<div>\n",
       "<style scoped>\n",
       "    .dataframe tbody tr th:only-of-type {\n",
       "        vertical-align: middle;\n",
       "    }\n",
       "\n",
       "    .dataframe tbody tr th {\n",
       "        vertical-align: top;\n",
       "    }\n",
       "\n",
       "    .dataframe thead th {\n",
       "        text-align: right;\n",
       "    }\n",
       "</style>\n",
       "<table border=\"1\" class=\"dataframe\">\n",
       "  <thead>\n",
       "    <tr style=\"text-align: right;\">\n",
       "      <th></th>\n",
       "      <th>sex</th>\n",
       "      <th>survived</th>\n",
       "    </tr>\n",
       "  </thead>\n",
       "  <tbody>\n",
       "    <tr>\n",
       "      <th>0</th>\n",
       "      <td>female</td>\n",
       "      <td>0.742038</td>\n",
       "    </tr>\n",
       "    <tr>\n",
       "      <th>1</th>\n",
       "      <td>male</td>\n",
       "      <td>0.188908</td>\n",
       "    </tr>\n",
       "  </tbody>\n",
       "</table>\n",
       "</div>"
      ],
      "text/plain": [
       "      sex  survived\n",
       "0  female  0.742038\n",
       "1    male  0.188908"
      ]
     },
     "execution_count": 234,
     "metadata": {},
     "output_type": "execute_result"
    }
   ],
   "source": [
    "# grouping results by gender\n",
    "grouped_gender = df_titanic[['sex', 'survived']].groupby(['sex'], as_index=False, observed=True).mean()\n",
    "grouped_gender"
   ]
  },
  {
   "cell_type": "code",
   "execution_count": 251,
   "id": "d04b519f-8225-4b08-960a-743c464c3bd7",
   "metadata": {},
   "outputs": [
    {
     "data": {
      "image/png": "[encoded data removed]",
      "text/plain": [
       "<Figure size 640x480 with 1 Axes>"
      ]
     },
     "metadata": {},
     "output_type": "display_data"
    }
   ],
   "source": [
    "# Survival rates by passenger gender\n",
    "sns.barplot(x='sex', y='survived', data=grouped_gender, hue='sex', palette = 'Set2')\n",
    "plt.title('Survival Rate by Passenger Gender')\n",
    "plt.ylabel('Survival Rate')\n",
    "plt.xlabel('Gender')\n",
    "plt.show()"
   ]
  },
  {
   "cell_type": "markdown",
   "id": "cf7c4e53-a46f-4e6c-a5a5-a5eb900c2ef5",
   "metadata": {},
   "source": [
    "#### Conclusion"
   ]
  },
  {
   "cell_type": "markdown",
   "id": "6be02a84-0a03-499d-83c8-c477eaae7f01",
   "metadata": {},
   "source": [
    "<p>The mean survival rates by gender reveal that females had a significantly higher survival rate than males, indicating that gender was a critical factor in survival on the Titanic. However, in the analysis of the distribution of gender by class, we noticed that men were very present in the third class. Hence, the higher proportion of men in third class likely contributed to the lower survival rates among males. We can confirm this hypothesis in the next vizualisation.</p>"
   ]
  },
  {
   "cell_type": "markdown",
   "id": "afcad9f3-afd9-455a-be1a-ee8c785e1b08",
   "metadata": {
    "jp-MarkdownHeadingCollapsed": true
   },
   "source": [
    "#### 4.6 Survival rate by gender and class"
   ]
  },
  {
   "cell_type": "code",
   "execution_count": 236,
   "id": "d18aac7e-bc6d-49e1-b6dc-e69e5fc07e2b",
   "metadata": {},
   "outputs": [
    {
     "data": {
      "text/html": [
       "<div>\n",
       "<style scoped>\n",
       "    .dataframe tbody tr th:only-of-type {\n",
       "        vertical-align: middle;\n",
       "    }\n",
       "\n",
       "    .dataframe tbody tr th {\n",
       "        vertical-align: top;\n",
       "    }\n",
       "\n",
       "    .dataframe thead th {\n",
       "        text-align: right;\n",
       "    }\n",
       "</style>\n",
       "<table border=\"1\" class=\"dataframe\">\n",
       "  <thead>\n",
       "    <tr style=\"text-align: right;\">\n",
       "      <th></th>\n",
       "      <th>class</th>\n",
       "      <th>sex</th>\n",
       "      <th>survived</th>\n",
       "    </tr>\n",
       "  </thead>\n",
       "  <tbody>\n",
       "    <tr>\n",
       "      <th>0</th>\n",
       "      <td>First</td>\n",
       "      <td>female</td>\n",
       "      <td>0.968085</td>\n",
       "    </tr>\n",
       "    <tr>\n",
       "      <th>1</th>\n",
       "      <td>First</td>\n",
       "      <td>male</td>\n",
       "      <td>0.368852</td>\n",
       "    </tr>\n",
       "    <tr>\n",
       "      <th>2</th>\n",
       "      <td>Second</td>\n",
       "      <td>female</td>\n",
       "      <td>0.921053</td>\n",
       "    </tr>\n",
       "    <tr>\n",
       "      <th>3</th>\n",
       "      <td>Second</td>\n",
       "      <td>male</td>\n",
       "      <td>0.157407</td>\n",
       "    </tr>\n",
       "    <tr>\n",
       "      <th>4</th>\n",
       "      <td>Third</td>\n",
       "      <td>female</td>\n",
       "      <td>0.500000</td>\n",
       "    </tr>\n",
       "    <tr>\n",
       "      <th>5</th>\n",
       "      <td>Third</td>\n",
       "      <td>male</td>\n",
       "      <td>0.135447</td>\n",
       "    </tr>\n",
       "  </tbody>\n",
       "</table>\n",
       "</div>"
      ],
      "text/plain": [
       "    class     sex  survived\n",
       "0   First  female  0.968085\n",
       "1   First    male  0.368852\n",
       "2  Second  female  0.921053\n",
       "3  Second    male  0.157407\n",
       "4   Third  female  0.500000\n",
       "5   Third    male  0.135447"
      ]
     },
     "execution_count": 236,
     "metadata": {},
     "output_type": "execute_result"
    }
   ],
   "source": [
    "# Calculate the survival rate by sex and class\n",
    "survival_rate = df_titanic[['class', 'sex', 'survived']].groupby(['class', 'sex'], as_index=False, observed=True).mean()\n",
    "survival_rate"
   ]
  },
  {
   "cell_type": "code",
   "execution_count": 237,
   "id": "14948c28-9e65-4cc1-a8cd-ec4ee9366111",
   "metadata": {},
   "outputs": [
    {
     "data": {
      "image/png": "[encoded data removed]",
      "text/plain": [
       "<Figure size 1000x600 with 1 Axes>"
      ]
     },
     "metadata": {},
     "output_type": "display_data"
    }
   ],
   "source": [
    "# Create a bar plot\n",
    "plt.figure(figsize=(10,6))  # Adjust the size of the plot\n",
    "sns.barplot(x='sex', y='survived', hue='class', data=survival_rate, palette='Set1')\n",
    "\n",
    "# Add titles and labels\n",
    "plt.title('Survival Rate by Gender and Class')\n",
    "plt.ylabel('Survival Rate')\n",
    "plt.xlabel('Gender')\n",
    "\n",
    "# Display the plot\n",
    "plt.show()"
   ]
  },
  {
   "cell_type": "markdown",
   "id": "c3bde091-4362-486b-beca-ce3fc364a172",
   "metadata": {},
   "source": [
    "#### Conclusion"
   ]
  },
  {
   "cell_type": "markdown",
   "id": "a64146f1-78f5-4003-a0c4-9750cad38136",
   "metadata": {},
   "source": [
    "<p>The plot illustrates that survival rates for women were significantly higher across all classes compared to men, with first-class women having the highest survival rate, followed by second-class women. In contrast, third-class men had the lowest survival rate, emphasizing that gender and class combined strongly influenced survival outcomes.</p>"
   ]
  },
  {
   "cell_type": "markdown",
   "id": "67cbbfbd-fc7d-4045-aebc-3e6cbd092bfe",
   "metadata": {
    "jp-MarkdownHeadingCollapsed": true
   },
   "source": [
    "#### 4.7 Visualizing the distribution of passengers by age and survival"
   ]
  },
  {
   "cell_type": "code",
   "execution_count": 259,
   "id": "4c14817c-f9df-444f-b1b1-d9774d5b048e",
   "metadata": {},
   "outputs": [
    {
     "data": {
      "text/plain": [
       "<Axes: xlabel='age', ylabel='Count'>"
      ]
     },
     "execution_count": 259,
     "metadata": {},
     "output_type": "execute_result"
    },
    {
     "data": {
      "image/png": "[encoded data removed]",
      "text/plain": [
       "<Figure size 640x480 with 1 Axes>"
      ]
     },
     "metadata": {},
     "output_type": "display_data"
    }
   ],
   "source": [
    "sns.histplot(data=df_titanic, x='age', hue='alive', multiple='stack', bins=20)"
   ]
  },
  {
   "cell_type": "markdown",
   "id": "88e435dc-8c13-488e-a397-07ad5a3dc320",
   "metadata": {},
   "source": [
    "<p>We can notice that survivors were evenly distributed across all ages, with two exceptions. We have a spike for the passengers in the mid 20s, and we have a relative high survival rates for the children under 10 years old. Let's see the distribution of the age by gender and class, maybe we can have an explanation for that.</p>"
   ]
  },
  {
   "cell_type": "code",
   "execution_count": 269,
   "id": "35901258-6c0a-4121-b86f-a8c276dd87ee",
   "metadata": {},
   "outputs": [
    {
     "data": {
      "text/plain": [
       "<Axes: xlabel='age', ylabel='Count'>"
      ]
     },
     "execution_count": 269,
     "metadata": {},
     "output_type": "execute_result"
    },
    {
     "data": {
      "image/png": "[encoded data removed]",
      "text/plain": [
       "<Figure size 640x480 with 1 Axes>"
      ]
     },
     "metadata": {},
     "output_type": "display_data"
    }
   ],
   "source": [
    "# Distribution of passengers by gender\n",
    "sns.histplot(data=df_titanic, x='age', hue='sex', multiple='stack', bins=20, palette = 'Set2')"
   ]
  },
  {
   "cell_type": "code",
   "execution_count": 270,
   "id": "c5e87f47-bde9-4b99-a82f-16a9a7bf61e2",
   "metadata": {},
   "outputs": [
    {
     "data": {
      "text/plain": [
       "<Axes: xlabel='age', ylabel='Count'>"
      ]
     },
     "execution_count": 270,
     "metadata": {},
     "output_type": "execute_result"
    },
    {
     "data": {
      "image/png": "[encoded data removed]",
      "text/plain": [
       "<Figure size 640x480 with 1 Axes>"
      ]
     },
     "metadata": {},
     "output_type": "display_data"
    }
   ],
   "source": [
    "# Distribution of passengers by class\n",
    "sns.histplot(data=df_titanic, x='age', hue='class', multiple='stack', bins=20, palette = 'Set1')"
   ]
  },
  {
   "cell_type": "markdown",
   "id": "824ce0bd-d976-4bfa-9fba-e53e7cc4ad8b",
   "metadata": {},
   "source": [
    "#### Conclusion"
   ]
  },
  {
   "cell_type": "markdown",
   "id": "10c4057e-e9e3-4a7f-926c-454fc17cfff7",
   "metadata": {},
   "source": [
    "<p>These visualizations reveal that a significant number of passengers in their mid 20s were men traveling in third class, a group that, as noted in our earlier analysis, had the lowest survival rates.\n",
    "However, it is noteworthy that many young children (under 10) were able to survive, despite being predominantly male and in third class. We can proove We can confirm this hypothesis in the next vizualisation, by engineering a new feature to represent age groups. </p>"
   ]
  },
  {
   "cell_type": "markdown",
   "id": "36b562c4-b9e7-409e-98ec-69643d8f8718",
   "metadata": {
    "jp-MarkdownHeadingCollapsed": true
   },
   "source": [
    "#### 4.8 Survival rate by class and age groups"
   ]
  },
  {
   "cell_type": "code",
   "execution_count": 272,
   "id": "232413fd-b55b-4f9a-8899-15b6510c9eb1",
   "metadata": {},
   "outputs": [
    {
     "data": {
      "text/html": [
       "<div>\n",
       "<style scoped>\n",
       "    .dataframe tbody tr th:only-of-type {\n",
       "        vertical-align: middle;\n",
       "    }\n",
       "\n",
       "    .dataframe tbody tr th {\n",
       "        vertical-align: top;\n",
       "    }\n",
       "\n",
       "    .dataframe thead th {\n",
       "        text-align: right;\n",
       "    }\n",
       "</style>\n",
       "<table border=\"1\" class=\"dataframe\">\n",
       "  <thead>\n",
       "    <tr style=\"text-align: right;\">\n",
       "      <th></th>\n",
       "      <th>age_group</th>\n",
       "      <th>class</th>\n",
       "      <th>survived</th>\n",
       "    </tr>\n",
       "  </thead>\n",
       "  <tbody>\n",
       "    <tr>\n",
       "      <th>0</th>\n",
       "      <td>Child</td>\n",
       "      <td>First</td>\n",
       "      <td>0.750000</td>\n",
       "    </tr>\n",
       "    <tr>\n",
       "      <th>1</th>\n",
       "      <td>Child</td>\n",
       "      <td>Second</td>\n",
       "      <td>1.000000</td>\n",
       "    </tr>\n",
       "    <tr>\n",
       "      <th>2</th>\n",
       "      <td>Child</td>\n",
       "      <td>Third</td>\n",
       "      <td>0.416667</td>\n",
       "    </tr>\n",
       "    <tr>\n",
       "      <th>3</th>\n",
       "      <td>Teen</td>\n",
       "      <td>First</td>\n",
       "      <td>0.916667</td>\n",
       "    </tr>\n",
       "    <tr>\n",
       "      <th>4</th>\n",
       "      <td>Teen</td>\n",
       "      <td>Second</td>\n",
       "      <td>0.500000</td>\n",
       "    </tr>\n",
       "    <tr>\n",
       "      <th>5</th>\n",
       "      <td>Teen</td>\n",
       "      <td>Third</td>\n",
       "      <td>0.282609</td>\n",
       "    </tr>\n",
       "    <tr>\n",
       "      <th>6</th>\n",
       "      <td>Young Adult</td>\n",
       "      <td>First</td>\n",
       "      <td>0.666667</td>\n",
       "    </tr>\n",
       "    <tr>\n",
       "      <th>7</th>\n",
       "      <td>Young Adult</td>\n",
       "      <td>Second</td>\n",
       "      <td>0.428571</td>\n",
       "    </tr>\n",
       "    <tr>\n",
       "      <th>8</th>\n",
       "      <td>Young Adult</td>\n",
       "      <td>Third</td>\n",
       "      <td>0.239521</td>\n",
       "    </tr>\n",
       "    <tr>\n",
       "      <th>9</th>\n",
       "      <td>Adult</td>\n",
       "      <td>First</td>\n",
       "      <td>0.611111</td>\n",
       "    </tr>\n",
       "    <tr>\n",
       "      <th>10</th>\n",
       "      <td>Adult</td>\n",
       "      <td>Second</td>\n",
       "      <td>0.382979</td>\n",
       "    </tr>\n",
       "    <tr>\n",
       "      <th>11</th>\n",
       "      <td>Adult</td>\n",
       "      <td>Third</td>\n",
       "      <td>0.086207</td>\n",
       "    </tr>\n",
       "    <tr>\n",
       "      <th>12</th>\n",
       "      <td>Senior</td>\n",
       "      <td>First</td>\n",
       "      <td>0.214286</td>\n",
       "    </tr>\n",
       "    <tr>\n",
       "      <th>13</th>\n",
       "      <td>Senior</td>\n",
       "      <td>Second</td>\n",
       "      <td>0.333333</td>\n",
       "    </tr>\n",
       "    <tr>\n",
       "      <th>14</th>\n",
       "      <td>Senior</td>\n",
       "      <td>Third</td>\n",
       "      <td>0.200000</td>\n",
       "    </tr>\n",
       "  </tbody>\n",
       "</table>\n",
       "</div>"
      ],
      "text/plain": [
       "      age_group   class  survived\n",
       "0         Child   First  0.750000\n",
       "1         Child  Second  1.000000\n",
       "2         Child   Third  0.416667\n",
       "3          Teen   First  0.916667\n",
       "4          Teen  Second  0.500000\n",
       "5          Teen   Third  0.282609\n",
       "6   Young Adult   First  0.666667\n",
       "7   Young Adult  Second  0.428571\n",
       "8   Young Adult   Third  0.239521\n",
       "9         Adult   First  0.611111\n",
       "10        Adult  Second  0.382979\n",
       "11        Adult   Third  0.086207\n",
       "12       Senior   First  0.214286\n",
       "13       Senior  Second  0.333333\n",
       "14       Senior   Third  0.200000"
      ]
     },
     "execution_count": 272,
     "metadata": {},
     "output_type": "execute_result"
    }
   ],
   "source": [
    "# Add a feature for age groups\n",
    "bins = [0, 12, 18, 35, 60, 100]  # Age bins\n",
    "labels = ['Child', 'Teen', 'Young Adult', 'Adult', 'Senior']\n",
    "df_titanic['age_group'] = pd.cut(df_titanic['age'], bins=bins, labels=labels)\n",
    "\n",
    "# Calculate the survival rate by age group, sex, and class\n",
    "survival_rate = df_titanic[['age_group', 'class', 'survived']].groupby(['age_group', 'class'], as_index=False, observed=True).mean()\n",
    "survival_rate"
   ]
  },
  {
   "cell_type": "code",
   "execution_count": 252,
   "id": "ee98b5fd-8793-44d0-b258-47987a62316d",
   "metadata": {},
   "outputs": [
    {
     "data": {
      "image/png": "[encoded data removed]",
      "text/plain": [
       "<Figure size 1200x600 with 1 Axes>"
      ]
     },
     "metadata": {},
     "output_type": "display_data"
    }
   ],
   "source": [
    "# Create a bar plot\n",
    "plt.figure(figsize=(12, 6))  # Adjust the size of the plot\n",
    "sns.barplot(x='age_group', y='survived', hue='class', data=survival_rate, palette='Set1')\n",
    "\n",
    "# Add titles and labels\n",
    "plt.title('Survival Rate by Age Group, and Class')\n",
    "plt.ylabel('Survival Rate')\n",
    "plt.xlabel('Age Group')\n",
    "\n",
    "# Set legend title\n",
    "plt.legend(title='Class')\n",
    "\n",
    "# Display the plot\n",
    "plt.show()"
   ]
  },
  {
   "cell_type": "markdown",
   "id": "48367771-fe60-48da-a8a0-8045df28063e",
   "metadata": {},
   "source": [
    "#### Conclusion"
   ]
  },
  {
   "cell_type": "markdown",
   "id": "10334856-8639-466f-acf5-e535dc566078",
   "metadata": {},
   "source": [
    "<p>The bar plot shows that survival rates were relatively highest for the Child age group, regardless of their class. In contrast, the Senior group had the lowest survival rate regardless of the class, emphasizing that the age also impacted the survival chances in these cases.</p>"
   ]
  },
  {
   "cell_type": "markdown",
   "id": "bdcfcb27-4e38-41aa-8c99-a684bd67bb3e",
   "metadata": {
    "jp-MarkdownHeadingCollapsed": true
   },
   "source": [
    "#### 4.9 Survival rate by gender and age groups"
   ]
  },
  {
   "cell_type": "code",
   "execution_count": 271,
   "id": "af6391a5-f6c6-4110-9be9-2d0d1a14226d",
   "metadata": {},
   "outputs": [
    {
     "data": {
      "text/html": [
       "<div>\n",
       "<style scoped>\n",
       "    .dataframe tbody tr th:only-of-type {\n",
       "        vertical-align: middle;\n",
       "    }\n",
       "\n",
       "    .dataframe tbody tr th {\n",
       "        vertical-align: top;\n",
       "    }\n",
       "\n",
       "    .dataframe thead th {\n",
       "        text-align: right;\n",
       "    }\n",
       "</style>\n",
       "<table border=\"1\" class=\"dataframe\">\n",
       "  <thead>\n",
       "    <tr style=\"text-align: right;\">\n",
       "      <th></th>\n",
       "      <th>age_group</th>\n",
       "      <th>sex</th>\n",
       "      <th>survived</th>\n",
       "    </tr>\n",
       "  </thead>\n",
       "  <tbody>\n",
       "    <tr>\n",
       "      <th>0</th>\n",
       "      <td>Child</td>\n",
       "      <td>female</td>\n",
       "      <td>0.593750</td>\n",
       "    </tr>\n",
       "    <tr>\n",
       "      <th>1</th>\n",
       "      <td>Child</td>\n",
       "      <td>male</td>\n",
       "      <td>0.567568</td>\n",
       "    </tr>\n",
       "    <tr>\n",
       "      <th>2</th>\n",
       "      <td>Teen</td>\n",
       "      <td>female</td>\n",
       "      <td>0.750000</td>\n",
       "    </tr>\n",
       "    <tr>\n",
       "      <th>3</th>\n",
       "      <td>Teen</td>\n",
       "      <td>male</td>\n",
       "      <td>0.088235</td>\n",
       "    </tr>\n",
       "    <tr>\n",
       "      <th>4</th>\n",
       "      <td>Young Adult</td>\n",
       "      <td>female</td>\n",
       "      <td>0.751445</td>\n",
       "    </tr>\n",
       "    <tr>\n",
       "      <th>5</th>\n",
       "      <td>Young Adult</td>\n",
       "      <td>male</td>\n",
       "      <td>0.162983</td>\n",
       "    </tr>\n",
       "    <tr>\n",
       "      <th>6</th>\n",
       "      <td>Adult</td>\n",
       "      <td>female</td>\n",
       "      <td>0.771429</td>\n",
       "    </tr>\n",
       "    <tr>\n",
       "      <th>7</th>\n",
       "      <td>Adult</td>\n",
       "      <td>male</td>\n",
       "      <td>0.192000</td>\n",
       "    </tr>\n",
       "    <tr>\n",
       "      <th>8</th>\n",
       "      <td>Senior</td>\n",
       "      <td>female</td>\n",
       "      <td>1.000000</td>\n",
       "    </tr>\n",
       "    <tr>\n",
       "      <th>9</th>\n",
       "      <td>Senior</td>\n",
       "      <td>male</td>\n",
       "      <td>0.105263</td>\n",
       "    </tr>\n",
       "  </tbody>\n",
       "</table>\n",
       "</div>"
      ],
      "text/plain": [
       "     age_group     sex  survived\n",
       "0        Child  female  0.593750\n",
       "1        Child    male  0.567568\n",
       "2         Teen  female  0.750000\n",
       "3         Teen    male  0.088235\n",
       "4  Young Adult  female  0.751445\n",
       "5  Young Adult    male  0.162983\n",
       "6        Adult  female  0.771429\n",
       "7        Adult    male  0.192000\n",
       "8       Senior  female  1.000000\n",
       "9       Senior    male  0.105263"
      ]
     },
     "execution_count": 271,
     "metadata": {},
     "output_type": "execute_result"
    }
   ],
   "source": [
    "# Calculate the survival rate by age group, sex, and class\n",
    "survival_rate = df_titanic[['age_group', 'sex', 'survived']].groupby(['age_group', 'sex'], as_index=False, observed=True).mean()\n",
    "survival_rate"
   ]
  },
  {
   "cell_type": "code",
   "execution_count": 263,
   "id": "3a289844-7e1b-4499-8c66-11e287c0f4a6",
   "metadata": {},
   "outputs": [
    {
     "data": {
      "image/png": "[encoded data removed]",
      "text/plain": [
       "<Figure size 1200x600 with 1 Axes>"
      ]
     },
     "metadata": {},
     "output_type": "display_data"
    }
   ],
   "source": [
    "# Create a bar plot\n",
    "plt.figure(figsize=(12, 6))  # Adjust the size of the plot\n",
    "sns.barplot(x='age_group', y='survived', hue='sex', data=survival_rate, palette='Set1')\n",
    "\n",
    "# Add titles and labels\n",
    "plt.title('Survival Rate by Age Group, and Gender')\n",
    "plt.ylabel('Survival Rate')\n",
    "plt.xlabel('Age Group')\n",
    "\n",
    "# Set legend title\n",
    "plt.legend(title='sex')\n",
    "\n",
    "# Display the plot\n",
    "plt.show()"
   ]
  },
  {
   "cell_type": "markdown",
   "id": "762c1d5f-4ff1-4378-ae7f-0ba36a2b7944",
   "metadata": {},
   "source": [
    "#### Conclusion"
   ]
  },
  {
   "cell_type": "markdown",
   "id": "caa8b80b-dfc8-48fb-aaa5-a1f785fc1da1",
   "metadata": {},
   "source": [
    "<p>The bar plot indicates that survival rates for the child age group are not influenced by gender; however, for the other age groups, the data reinforces previous findings that women were more likely to survive.</p>"
   ]
  }
 ],
 "metadata": {
  "kernelspec": {
   "display_name": "Python 3 (ipykernel)",
   "language": "python",
   "name": "python3"
  },
  "language_info": {
   "codemirror_mode": {
    "name": "ipython",
    "version": 3
   },
   "file_extension": ".py",
   "mimetype": "text/x-python",
   "name": "python",
   "nbconvert_exporter": "python",
   "pygments_lexer": "ipython3",
   "version": "3.12.4"
  }
 },
 "nbformat": 4,
 "nbformat_minor": 5
}
